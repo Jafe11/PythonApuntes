{
 "cells": [
  {
   "cell_type": "markdown",
   "id": "432c269f",
   "metadata": {},
   "source": [
    "**Comenzando en phyton**"
   ]
  },
  {
   "cell_type": "code",
   "execution_count": 1,
   "id": "4ecbe94e",
   "metadata": {},
   "outputs": [
    {
     "name": "stdout",
     "output_type": "stream",
     "text": [
      "Hola, este es el comienzo de una leyenda\n"
     ]
    }
   ],
   "source": [
    "#Fundamentos de python\n",
    "print(\"Hola, este es el comienzo de una leyenda\")"
   ]
  },
  {
   "cell_type": "code",
   "execution_count": 7,
   "id": "221461f3",
   "metadata": {},
   "outputs": [
    {
     "name": "stdout",
     "output_type": "stream",
     "text": [
      "hola, Juan\n",
      "hola, Juan\n",
      "hola, Juan\n",
      "hola, Juan\n",
      "hola, Juan\n",
      "Juan, hola\n",
      "Juan, hola\n"
     ]
    }
   ],
   "source": [
    "saludo = \"hola\"\n",
    "nombre =  \"Juan\"\n",
    "print(saludo + \", \" + nombre)\n",
    "print(f\"{saludo}, {nombre}\") #f-string\n",
    "print(\"{}, {}\".format(saludo, nombre)) #format\n",
    "print(\"%s, %s\" % (saludo, nombre)) # %\n",
    "print(\"{0}, {1}\".format(saludo, nombre)) #format'\n",
    "print(\"{1}, {0}\".format(saludo, nombre)) #format\n",
    "print(\"{nombre}, {saludo}\".format(saludo=saludo, nombre=nombre)) #format"
   ]
  },
  {
   "cell_type": "code",
   "execution_count": null,
   "id": "28acaf7c",
   "metadata": {},
   "outputs": [
    {
     "name": "stdout",
     "output_type": "stream",
     "text": [
      "Hola, soy Juan\n",
      "HOLA, SOY JUAN\n",
      "hola, soy juan\n",
      "Hola, soy juan\n",
      "Hola, Soy Juan\n",
      "hOLA, SOY jUAN\n",
      "True\n",
      "Hola, soy Juan\n",
      "Hola, soy Juan\n",
      "Hola, soy Juan\n",
      "Hola, soy Pedro\n",
      "10\n",
      "2\n",
      "['Hola,', 'soy', 'Juan']\n",
      "['Hola,', 'soy', 'Juan']\n",
      "['Hola', 'soy Juan']\n",
      "['Hola, soy Juan']\n",
      "HolaHola, soy JuansoyHola, soy JuanJuan\n",
      "6\n",
      "4\n",
      "Hola, soy Juan\n"
     ]
    }
   ],
   "source": [
    "#manipulacion de cadenas\n",
    "print(\"Hola, soy Juan\")\n",
    "\n",
    "print(\"Hola, soy Juan\".upper())#upper convierte a mayusculas\n",
    "print(\"Hola, soy Juan\".lower())#lower convierte a minusculas\n",
    "\n",
    "print(\"Hola, soy Juan\".capitalize())#capitalize convierte la primera letra a mayuscula\n",
    "\n",
    "print(\"hola, soy Juan\".title())#title convierte la primera letra de cada palabra a mayuscula\n",
    "\n",
    "print(\"Hola, soy Juan\".swapcase())#swapcase convierte las mayusculas a minusculas y viceversa\n",
    "\n",
    "print(\"Hola, soy Juan\".startswith(\"Hola\")) #startswith verifica si la cadena empieza con \"Hola\"\n",
    "\n",
    "print(\"        hola, soy Juan       \")\n",
    "print(\"        Hola, soy Juan       \".strip())#strip elimina los espacios en blanco al principio y al final de la cadena\n",
    "print(\"       Hola, soy Juan\".lstrip())#lstrip elimina los espacios en blanco al principio de la cadena\n",
    "print(\"Hola, soy Juan           \".rstrip())#rstrip elimina los espacios en blanco al final de la cadena\n",
    "\n",
    "print(\"Hola, soy Juan\".replace(\"Juan\", \"Pedro\"))#replace reemplaza \"Juan\" por \"Pedro\"\n",
    "\n",
    "print(\"Hola, soy Juan\".find(\"Juan\"))#find busca \"Juan\" y devuelve la posicion\n",
    "\n",
    "print(\"Hola, soy Juan\".count(\"o\"))#count cuenta cuantas veces aparece \"o\"\n",
    "\n",
    "print(\"Hola, soy Juan\".split())#split separa la cadena en una lista de palabras\n",
    "print(\"Hola, soy Juan\".split(\" \"))#split separa la cadena en una lista de palabras usando el espacio como separador\n",
    "print(\"Hola, soy Juan\".split(\", \"))#split separa la cadena en una lista de palabras usando la coma como separador\n",
    "print(\"Hola, soy Juan\".splitlines())#splitlines separa la cadena en una lista de lineas\n",
    "\n",
    "print(\"Hola, soy Juan\".join([\"Hola\", \"soy\", \"Juan\"]))#join une la lista en una cadena usando el espacio como separador\n",
    "\n",
    "if \"soy\" in \"Hola, soy Juan\":\n",
    "    print(\"Hola, soy Juan\".index(\"soy\"))  # index busca \"s\" y devuelve la posicion\n",
    "else:\n",
    "    print(\"'s' no se encuentra en la cadena\")\n",
    "\n",
    "print(eval(\"2 + 2\")) # eval evalua la cadena como una expresion matematica\n",
    "\n",
    "exec(\"print('Hola, soy Juan')\") # exec ejecuta la cadena como un programa"
   ]
  },
  {
   "cell_type": "code",
   "execution_count": 3,
   "id": "637e9875",
   "metadata": {},
   "outputs": [
    {
     "name": "stdout",
     "output_type": "stream",
     "text": [
      "4\n",
      "<class 'str'>\n",
      "<class 'int'>\n"
     ]
    }
   ],
   "source": [
    "nombre = \"Juan\"\n",
    "edad = 21\n",
    "\n",
    "print(len(nombre)) # len devuelve la longitud de la cadena\n",
    "print(type(nombre)) # type devuelve el tipo de la variable\n",
    "print(type(edad)) # type devuelve el tipo de la variable"
   ]
  },
  {
   "cell_type": "code",
   "execution_count": 2,
   "id": "e5c21db0",
   "metadata": {},
   "outputs": [
    {
     "name": "stdout",
     "output_type": "stream",
     "text": [
      "Hola, Fel, tienes 21 años\n"
     ]
    }
   ],
   "source": [
    "#Ejercicio 1: Crear un programa que pida al usuario su nombre y su edad y los imprima en pantalla\n",
    "nombre = input(\"Introduce tu nombre: \")\n",
    "edad = input(\"Introduce tu edad: \")\n",
    "print(f\"Hola, {nombre}, tienes {edad} años\")"
   ]
  },
  {
   "cell_type": "code",
   "execution_count": 6,
   "id": "4599e619",
   "metadata": {},
   "outputs": [
    {
     "name": "stdout",
     "output_type": "stream",
     "text": [
      "<class 'int'>\n",
      "<class 'float'>\n",
      "<class 'bool'>\n",
      "<class 'float'> 1200.0\n",
      "<class 'float'> 0.0012\n"
     ]
    }
   ],
   "source": [
    "#enteros, flotantes y booleanos\n",
    "x = 5 # entero\n",
    "y = 3.14 # flotante\n",
    "z = True # booleano\n",
    "a = 1.2E3 # notacion cientifica\n",
    "b = 1.2E-3 # notacion cientifica\n",
    "print(type(x)) # type devuelve el tipo de la variable\n",
    "print(type(y)) # type devuelve el tipo de la variable\n",
    "print(type(z)) # type devuelve el tipo de la variable\n",
    "print(type(a), a) # type devuelve el tipo de la variable\n",
    "print(type(b), b) # type devuelve el tipo de la variable"
   ]
  },
  {
   "cell_type": "code",
   "execution_count": null,
   "id": "72d2bf16",
   "metadata": {},
   "outputs": [
    {
     "name": "stdout",
     "output_type": "stream",
     "text": [
      "Suma 9\n",
      "Resta -1\n",
      "Multiplicacion 20\n",
      "Division 0.8\n",
      "Division entera 0\n",
      "Modulo 4\n",
      "Potencia 1024\n",
      "Raiz cuadrada 2.0\n",
      "Raiz cuadrada 2.0\n",
      "Pemdas 14\n",
      "Pemdas 20\n",
      "Pemdas 50\n",
      "Pemdas 80\n",
      "Pemdas 50\n",
      "Pemdas 48.0\n"
     ]
    }
   ],
   "source": [
    "#operadores numericos\n",
    "a = 4\n",
    "b = 5\n",
    "\n",
    "print(\"Suma\", a + b) # suma\n",
    "print(\"Resta\", a - b) # resta\n",
    "print(\"Multiplicacion\", a * b) # multiplicacion\n",
    "print(\"Division\", a / b) # division\n",
    "print(\"Division entera\", a // b) # division entera\n",
    "print(\"Modulo\", a % b) # modulo\n",
    "print(\"Potencia\", a ** b) # potencia\n",
    "print(\"Raiz cuadrada\", a ** 0.5) # raiz cuadrada\n",
    "print(\"Raiz cuadrada\", a ** (1/2)) # raiz cuadrada\n",
    "\n",
    "\n",
    "#Pemdas\n",
    "\n",
    "print(\"Pemdas\", 2 + 3 * 4) # 14\n",
    "print(\"Pemdas\", (2 + 3) * 4) # 20\n",
    "print(\"Pemdas\", 2 + 3 * 4 ** 2) # 50\n",
    "print(\"Pemdas\", (2 + 3) * 4 ** 2) # 80\n",
    "print(\"Pemdas\", 2 + 3 * (4 ** 2)) # 50\n",
    "print(\"Pemdas\", 2 + (3 * 4) ** 2 / 3 -2) # 48"
   ]
  },
  {
   "cell_type": "code",
   "execution_count": null,
   "id": "eceb04be",
   "metadata": {},
   "outputs": [
    {
     "name": "stdout",
     "output_type": "stream",
     "text": [
      "Operadores logicos\n",
      "False\n",
      "True\n",
      "False\n",
      "True\n"
     ]
    }
   ],
   "source": [
    "#operadores logicos\n",
    "print(\"Operadores logicos\")\n",
    "a = 2\n",
    "b = 3\n",
    "print(a>b) # mayor que True\n",
    "print(a<b) # menor que False\n",
    "print(a>=b) # mayor o igual que False\n",
    "print(a<=b) # menor o igual que True\n",
    "print(a==b) # igual que False\n",
    "print(a!=b) # diferente que True"
   ]
  },
  {
   "cell_type": "code",
   "execution_count": 24,
   "id": "fe2b95af",
   "metadata": {},
   "outputs": [
    {
     "name": "stdout",
     "output_type": "stream",
     "text": [
      "Listas\n",
      "[1, 2, 3, 4, 'Cinco', [6, 7, 8]]\n",
      "<class 'list'>\n",
      "1\n",
      "2\n",
      "[6, 7, 8]\n",
      "[1, 2, 3]\n",
      "[2, 3, 4]\n",
      "\n",
      "[1, 2, 3, 4, 'Cinco', [6, 7, 8], 10]\n",
      "[1, 2, 3, 4, 'Cinco', [6, 7, 8, 9], 10]\n",
      "[1, 2, 3, 4, 'Cinco', [7, 8, 9], 10]\n",
      "[0, 1, 2, 3, 4, 'Cinco', [8, 9], 10]\n",
      "[1, 2, 3, 4, 'Cinco', [8, 9], 10]\n",
      "5\n",
      "2\n",
      "[1, 2, 3, 4, 'Cinco', [8, 9], 10, 3]\n",
      "[1, 2, 3, 4, 5]\n",
      "5\n",
      "1\n",
      "[2, 3, 4, 5]\n",
      "[4, 5]\n"
     ]
    }
   ],
   "source": [
    "#listas\n",
    "print(\"Listas\")\n",
    "lista = [1, 2, 3, 4, \"Cinco\", [6, 7, 8]] # lista de enteros\n",
    "print(lista) # imprime la lista\n",
    "print(type(lista)) # type devuelve el tipo de la variable\n",
    "print(lista[0]) # imprime el primer elemento de la lista\n",
    "print(lista[1]) # imprime el segundo elemento de la lista\n",
    "print(lista[-1]) # imprime el ultimo elemento de la lista\n",
    "print(lista[0:3]) # imprime los primeros 3 elementos de la lista\n",
    "print(lista[1:4]) # imprime los elementos de la lista desde el segundo hasta el cuarto\n",
    "\n",
    "print(\"\")\n",
    "\n",
    "lista.append(10) # agrega 9 al final de la lista\n",
    "print(lista) \n",
    "lista[5].append(9) # agrega 9 a la lista dentro de la lista\n",
    "print(lista) \n",
    "\n",
    "lista[5].remove(6) # elimina 6 de la lista dentro de la lista\n",
    "print(lista)\n",
    "lista[5].pop(0) # elimina el primer elemento de la lista dentro de la lista\n",
    "lista.insert(0, 0) # inserta 0 al principio de la lista\n",
    "print(lista)\n",
    "lista.remove(0) # elimina 0 de la lista\n",
    "print(lista)\n",
    "\n",
    "print(lista.index([8,9])) # devuelve la posicion de la lista dentro de la lista\n",
    "lista.append(3) # agrega 3 al final de la lista\n",
    "print(lista.count(3)) # cuenta cuantas veces aparece 3 en la lista\n",
    "print(lista) \n",
    "lista_2 = [1, 2, 3, 4, 5] # lista de enteros\n",
    "print(lista_2) # imprime la lista\n",
    "print(max(lista_2)) # devuelve el mayor elemento de la lista\n",
    "print(min(lista_2)) # devuelve el menor elemento de la lista \n",
    "del lista_2[0] # elimina el primer elemento de la lista\n",
    "print(lista_2) # imprime la lista\n",
    "del lista_2[:2]\n",
    "print(lista_2) \n",
    "del lista_2"
   ]
  },
  {
   "cell_type": "code",
   "execution_count": 28,
   "id": "24e6678c",
   "metadata": {},
   "outputs": [
    {
     "name": "stdout",
     "output_type": "stream",
     "text": [
      "[1, 2, 3, 4, 5]\n",
      "[1, 2, 3, 4, 5]\n",
      "1768131480128\n",
      "1768131480128\n",
      "1768131484032\n",
      "[1, 2, 3, 4, 5, 6]\n",
      "[1, 2, 3, 4, 5, 6]\n",
      "[1, 2, 3, 4, 5]\n"
     ]
    }
   ],
   "source": [
    "#slice\n",
    "a = [1, 2, 3, 4, 5] # lista de enteros\n",
    "b = a # copia la lista a\n",
    "print(a)\n",
    "print(b) \n",
    "print(id(a)) # imprime la direccion de memoria de la lista\n",
    "print(id(b)) \n",
    "c = a[:] \n",
    "print(id(c)) \n",
    "a.append(6) \n",
    "print(a) \n",
    "print(b)\n",
    "print(c)"
   ]
  },
  {
   "cell_type": "code",
   "execution_count": 4,
   "id": "2bd59309",
   "metadata": {},
   "outputs": [
    {
     "name": "stdout",
     "output_type": "stream",
     "text": [
      "5\n",
      "Juan\n"
     ]
    }
   ],
   "source": [
    "#matrices\n",
    "matriz = [[1,2,3],[4,5,6],[7,8,9]] # matriz de enteros\n",
    "print(matriz[1][1]) # imprime la matriz\n",
    "matriz_2 = [[\"Nombre\", \"Edad\", \"Sexo\"], [\"Juan\", 21, \"M\"], [\"Maria\", 22, \"F\"]]\n",
    "print(matriz_2[1] [0])"
   ]
  },
  {
   "cell_type": "code",
   "execution_count": 15,
   "id": "0879d443",
   "metadata": {},
   "outputs": [
    {
     "name": "stdout",
     "output_type": "stream",
     "text": [
      "{1: 'uno', 2: 'dos', 3: 'tres'}\n",
      "{'Nombre': 'Juan', 'Edad': 21, 'Sexo': 'M'}\n",
      "Juan\n",
      "{'Nombre': 'Juan', 'Edad': 21}\n",
      "<class 'dict_keys'>\n",
      "dict_keys(['Nombre', 'Edad'])\n",
      "<class 'dict_values'>\n",
      "dict_values(['Juan', 21])\n",
      "<class 'dict_items'>\n",
      "dict_items([('Nombre', 'Juan'), ('Edad', 21)])\n",
      "{'Edad': 21, 'Sexo': 'M', 'Telefono': '123456789', 'Amigo': True}\n"
     ]
    }
   ],
   "source": [
    "#Diccionarios\n",
    "numbers = {1: \"uno\", 2: \"dos\", 3: \"tres\"} \n",
    "print(numbers) \n",
    "diccionario_2 = {\"Nombre\": \"Juan\", \"Edad\": 21, \"Sexo\": \"M\"} # diccionario de enteros\n",
    "print(diccionario_2) \n",
    "print(diccionario_2[\"Nombre\"])\n",
    "del diccionario_2[\"Sexo\"]\n",
    "print(diccionario_2)\n",
    "\n",
    "clave = diccionario_2.keys() # devuelve las claves del diccionario\n",
    "print(type(clave))\n",
    "print(clave)\n",
    "\n",
    "valores = diccionario_2.values() # devuelve los valores del diccionario\n",
    "print(type(valores))\n",
    "print(valores)\n",
    "\n",
    "pares = diccionario_2.items() # devuelve los pares del diccionario\n",
    "print(type(pares))\n",
    "print(pares)\n",
    "\n",
    "contactos = {\"Juan\" : {\"Edad\": 21,\n",
    "             \"Sexo\": \"M\",\n",
    "             \"Telefono\": \"123456789\",\n",
    "             \"Amigo\": True},\n",
    "             \"Maria\" : {\"Edad\": 22,\n",
    "             \"Sexo\": \"F\",\n",
    "             \"Telefono\": \"987654321\",\n",
    "             \"Amigo\": False}}\n",
    "print(contactos[\"Juan\"])"
   ]
  },
  {
   "cell_type": "code",
   "execution_count": 21,
   "id": "2f80b4ae",
   "metadata": {},
   "outputs": [
    {
     "name": "stdout",
     "output_type": "stream",
     "text": [
      "[0, 1, 4, 9, 16, 25, 36, 49, 64, 81]\n",
      "[32.0, 50.0, 68.0, 86.0, 104.0, 122.0]\n",
      "[2, 4, 6, 8, 10, 12, 14, 16, 18, 20]\n"
     ]
    }
   ],
   "source": [
    "#comprehensionlist \n",
    "squares = [ x**2 for x in range(10) ] # lista de cuadrados\n",
    "print(squares) # devuelve la longitud de la lista\n",
    "\n",
    "celcius = [0, 10, 20, 30, 40, 50] # lista de enteros\n",
    "farenheit = [ (9/5)*temp + 32 for temp in celcius ] \n",
    "print(farenheit)\n",
    "\n",
    "#numeros pares\n",
    "pares2 = [x for x in range (1,21) if x %2 == 0] # lista de numeros pares\n",
    "print(pares2) # devuelve la longitud de la lista"
   ]
  },
  {
   "cell_type": "code",
   "execution_count": 22,
   "id": "5217d417",
   "metadata": {},
   "outputs": [
    {
     "name": "stdout",
     "output_type": "stream",
     "text": [
      "[[1, 2, 3], [4, 5, 6], [7, 8, 9]]\n",
      "[[1, 4, 7], [2, 5, 8], [3, 6, 9]]\n"
     ]
    }
   ],
   "source": [
    "matriz_3 = [[1,2,3],[4,5,6],[7,8,9]] \n",
    "transpuestaMatriz3 = [[row[i] for row in matriz_3] for i in range(len(matriz_3[0]))]\n",
    "\n",
    "print(matriz_3)\n",
    "print(transpuestaMatriz3)"
   ]
  },
  {
   "cell_type": "code",
   "execution_count": 37,
   "id": "19f4c38d",
   "metadata": {},
   "outputs": [
    {
     "name": "stdout",
     "output_type": "stream",
     "text": [
      "[2, 4, 6, 8, 10]\n",
      "['montaña', 'estrella']\n",
      "{'nombre': 'Juan', 'edad': 21, 'ocupación': 'Ingeniero'}\n",
      "[[1, 2, 3], [4, 5, 6], [7, 8, 9]]\n",
      "[[1, 4, 7], [2, 5, 8], [3, 6, 9]]\n",
      "[{'nombre': 'Juan', 'edad': 25, 'ciudad': 'Madrid'}, {'nombre': 'Ana', 'edad': 32, 'ciudad': 'Madrid'}, {'nombre': 'Laura', 'edad': 40, 'ciudad': 'Madrid'}]\n",
      "Números transformados: [1, 4, 3, 8, 5, 12, 7, 16, 9, 20]\n"
     ]
    }
   ],
   "source": [
    "#doble\n",
    "n1 = [1,2,3,4,5] # lista de enteros\n",
    "n2 = [_*2 for _ in n1] # lista de enteros\n",
    "print(n2) # devuelve la longitud de la lista\n",
    "\n",
    "#palabra mas de 3 letras\n",
    "palabras = [\"sol\", \"mar\", \"montaña\", \"rio\", \"estrella\"]\n",
    "\n",
    "palabrasLargas = [p for p in palabras if len(p) > 3]\n",
    "print(palabrasLargas) # devuelve la longitud de la lista\n",
    "\n",
    "#crear diccionario\n",
    "claves1 = [\"nombre\", \"edad\", \"ocupación\"]\n",
    "valores1 = [\"Juan\", 21, \"Ingeniero\"]\n",
    "\n",
    "diccionario_3 = {claves1[i]: valores1[i] for i in range(len(claves1))}\n",
    "print(diccionario_3) # devuelve la longitud de la lista\n",
    "\n",
    "#transpuesta\n",
    "mareiz_4 = [[1,2,3],[4,5,6],[7,8,9]]\n",
    "transpuestaMatriz4 = [[row[i] for row in mareiz_4] for i in range(len(mareiz_4[0]))]\n",
    "print(mareiz_4)\n",
    "print(transpuestaMatriz4)\n",
    "\n",
    "personas = [\n",
    "    {\"nombre\": \"Juan\", \"edad\": 25, \"ciudad\": \"Madrid\"},\n",
    "    {\"nombre\": \"Ana\", \"edad\": 32, \"ciudad\": \"Madrid\"},\n",
    "    {\"nombre\": \"Pedro\", \"edad\": 35, \"ciudad\": \"Barcelona\"},\n",
    "    {\"nombre\": \"Laura\", \"edad\": 40, \"ciudad\": \"Madrid\"}\n",
    "]\n",
    "\n",
    "vivenMadrid = [persona for persona in personas if persona[\"ciudad\"] == \"Madrid\"]\n",
    "print(vivenMadrid) # devuelve la longitud de la lista\n",
    "\n",
    "numeros = [1, 2, 3, 4, 5, 6, 7, 8, 9, 10]\n",
    "transformados = [x * 2 if x % 2 == 0 else x for x in numeros]\n",
    "print(\"Números transformados:\", transformados)"
   ]
  },
  {
   "cell_type": "code",
   "execution_count": 45,
   "id": "59189133",
   "metadata": {},
   "outputs": [
    {
     "name": "stdout",
     "output_type": "stream",
     "text": [
      "x es igual a 10\n",
      "Eres menor de edad\n",
      "Namas un niño largate de aqui\n",
      "Jugador 1 gana\n"
     ]
    }
   ],
   "source": [
    "#condicionales\n",
    "x = 10\n",
    "\n",
    "if x> 10:\n",
    "    print(\"x es mayor que 10\")\n",
    "elif x == 10:\n",
    "    print(\"x es igual a 10\")\n",
    "else:\n",
    "    print(\"x es menor que 10\")\n",
    "\n",
    "edad=12\n",
    "\n",
    "if edad >= 18:\n",
    "    print(\"Eres mayor de edad\")\n",
    "else:\n",
    "    print(\"Eres menor de edad\")\n",
    "    if edad <= 13:\n",
    "        print(\"Namas un niño largate de aqui\")\n",
    "\n",
    "piedra = \"piedra\"\n",
    "papel = \"papel\"\n",
    "tijera = \"tijera\"\n",
    "\n",
    "jug = input(\"Elige piedra, papel o tijera: \")\n",
    "jug2 = input(\"Elige piedra, papel o tijera: \")\n",
    "\n",
    "if jug == piedra and jug2 == tijera:\n",
    "    print(\"Jugador 1 gana\")\n",
    "elif jug == piedra and jug2 == papel:\n",
    "    print(\"Jugador 2 gana\")\n",
    "elif jug == papel and jug2 == piedra:\n",
    "    print(\"Jugador 1 gana\")\n",
    "elif jug == papel and jug2 == tijera:\n",
    "    print(\"Jugador 2 gana\")\n",
    "elif jug == tijera and jug2 == piedra:\n",
    "    print(\"Jugador 2 gana\")\n",
    "elif jug == tijera and jug2 == papel:\n",
    "    print(\"Jugador 1 gana\")\n",
    "elif jug == jug2:\n",
    "    print(\"Empate\")"
   ]
  },
  {
   "cell_type": "code",
   "execution_count": 54,
   "id": "8fdebe3b",
   "metadata": {},
   "outputs": [
    {
     "name": "stdout",
     "output_type": "stream",
     "text": [
      "se encontro  naranja\n",
      "x es:  20\n",
      "x es:  19\n",
      "x es:  18\n",
      "x es:  17\n",
      "x es:  16\n",
      "x es:  15\n",
      "x es:  14\n",
      "x es:  13\n",
      "x es:  12\n",
      "x es:  11\n",
      "x es:  10\n",
      "x es:  9\n",
      "x es:  8\n",
      "x es:  7\n",
      "x es:  6\n",
      "x es:  5\n",
      "x es:  4\n",
      "x es:  3\n",
      "x es:  2\n",
      "x es:  1\n"
     ]
    }
   ],
   "source": [
    "#bucles y control de iteraciones\n",
    "lista  = [1, 2, 3, 4, 5] \n",
    "#for i in lista:\n",
    "#    print(\"Aqui i es: \", i)\n",
    "\n",
    "#for i in range(10): \n",
    "#    print(\"Aqui i es: \", i)\n",
    "sw = False\n",
    "frutas = [\"manzana\", \"banana\", \"naranja\"]\n",
    "for fruta in frutas:\n",
    "    if fruta == \"naranja\":\n",
    "        print(\"se encontro \", fruta)\n",
    "        sw =True\n",
    "\n",
    "if sw == False:\n",
    "    print(\"No se encontrol la fruta\")\n",
    "    \n",
    "\n",
    "x = 20\n",
    "while x >0:\n",
    "    print(\"x es: \", x)\n",
    "    x -= 1\n"
   ]
  },
  {
   "cell_type": "code",
   "execution_count": 12,
   "id": "29aff9ec",
   "metadata": {},
   "outputs": [
    {
     "name": "stdout",
     "output_type": "stream",
     "text": [
      "1\n",
      "2\n",
      "3\n",
      "4\n",
      "5\n",
      "\n",
      "H\n",
      "o\n",
      "l\n",
      "a\n",
      ",\n",
      " \n",
      "s\n",
      "o\n",
      "y\n",
      " \n",
      "J\n",
      "u\n",
      "a\n",
      "n\n",
      "\n",
      "1\n",
      "3\n",
      "5\n",
      "7\n",
      "9\n",
      "\n",
      "1\n",
      "2\n",
      "3\n",
      "0\n",
      "1\n",
      "1\n",
      "2\n",
      "3\n",
      "5\n",
      "8\n",
      "13\n"
     ]
    }
   ],
   "source": [
    "#Generadores e Itereadores\n",
    "\n",
    "mi_lista = [1, 2, 3, 4, 5]\n",
    "mi_iterador = iter(mi_lista) # crea un iterador de la lista\n",
    "print(next(mi_iterador)) # imprime el primer elemento de la lista\n",
    "print(next(mi_iterador)) # imprime el segundo elemento de la lista\n",
    "print(next(mi_iterador)) # imprime el tercer elemento de la lista\n",
    "print(next(mi_iterador)) # imprime el cuarto elemento de la lista\n",
    "print(next(mi_iterador)) # imprime el quinto elemento de la lista\n",
    "\n",
    "\n",
    "texto = \"Hola, soy Juan\"\n",
    "iteradorTexto = iter(texto)\n",
    "print(\"\")\n",
    "for letara in iteradorTexto:\n",
    "    print(letara)\n",
    "\n",
    "print(\"\")\n",
    "\n",
    "#Itereador para numeros impares\n",
    "#limite\n",
    "limit = 10\n",
    "\n",
    "#creacion de iterador\n",
    "otherItter = iter(range(1, limit+1, 2)) \n",
    "\n",
    "#uso de iterador\n",
    "for num in otherItter:\n",
    "    print(num) # imprime los numeros impares del 1 al 10\n",
    "\n",
    "\n",
    "print (\"\")\n",
    "\n",
    "#Genrador \n",
    "def generador1 ():\n",
    "    yield 1\n",
    "    yield 2\n",
    "    yield 3 \n",
    "\n",
    "for dato in generador1():\n",
    "    print(dato) # imprime 1, 2, 3\n",
    "\n",
    "\n",
    "#Fibonacci\n",
    "def fibonacci(limit):\n",
    "    a,b = 0,1\n",
    "    while a < limit:\n",
    "        yield a\n",
    "        a,b = b, a+b\n",
    "    \n",
    "for num in fibonacci(15):\n",
    "    print(num)"
   ]
  },
  {
   "cell_type": "code",
   "execution_count": null,
   "id": "2b92ac1c",
   "metadata": {},
   "outputs": [
    {
     "name": "stdout",
     "output_type": "stream",
     "text": [
      "Bienvenido Fel Oro\n",
      "Elige una opcion: \n",
      "1. Sumar\n",
      "2. Restar\n",
      "3. Multiplicar\n",
      "4. Dividir\n",
      "5. Salir\n",
      "1.0\n",
      "\n",
      "Bienvenido Fel oro\n",
      "Elige una opcion: \n",
      "1. Sumar\n",
      "2. Restar\n",
      "3. Multiplicar\n",
      "4. Dividir\n",
      "5. Salir\n",
      "Gracias por jugar\n",
      "\n"
     ]
    }
   ],
   "source": [
    "#funciones\n",
    "def greet(name, lastName=\"\"):\n",
    "    print (f\"Bienvenido {name} {lastName}\")\n",
    "\n",
    "def suma(a, b):\n",
    "    return print(a + b)\n",
    "\n",
    "def resta(a, b):\n",
    "    return print(a - b)\n",
    "\n",
    "def multiplicacion(a,b):\n",
    "    return print(a*b)\n",
    "\n",
    "def division(a,b):\n",
    "    return print(a/b)\n",
    "\n",
    "game = True\n",
    "while game:\n",
    "    nombre = input(\"Ingresa tu nombre: \")\n",
    "    apellido = input(\"Ingresa tu apellido: \")\n",
    "    greet(nombre, apellido)\n",
    "    print(\"Elige una opcion: \")\n",
    "    print(\"1. Sumar\")\n",
    "    print(\"2. Restar\")\n",
    "    print(\"3. Multiplicar\")\n",
    "    print(\"4. Dividir\")\n",
    "    print(\"5. Salir\")\n",
    "    \n",
    "    opcion = input(\"Escribe el numero de eleccion: \")\n",
    "    \n",
    "    if opcion == \"5\":\n",
    "        print(\"Gracias por jugar\")\n",
    "        game = False\n",
    "\n",
    "    if opcion in [\"1\", \"2\", \"3\", \"4\"]:\n",
    "    \n",
    "        num1 = float(input(\"Ingresa el primero numero: \"))\n",
    "        num2 = float(input(\"ingresa el segundo numero: \"))\n",
    "        \n",
    "        if opcion == \"1\":\n",
    "            suma(num1, num2)    \n",
    "        \n",
    "        elif opcion == \"2\":\n",
    "            resta(num1, num2)\n",
    "\n",
    "        elif opcion == \"3\":\n",
    "            multiplicacion(num1, num2)\n",
    "\n",
    "        elif opcion == \"4\":\n",
    "            division(num1, num2)\n",
    "        else:\n",
    "            print(\"Opcion no valida\")\n",
    "            game = False\n"
   ]
  },
  {
   "cell_type": "code",
   "execution_count": null,
   "id": "274266bd",
   "metadata": {},
   "outputs": [
    {
     "name": "stdout",
     "output_type": "stream",
     "text": [
      "5\n",
      "-1\n",
      "6\n",
      "0.6666666666666666\n",
      "[0, 1, 4, 9, 16, 25, 36, 49, 64, 81, 100]\n"
     ]
    }
   ],
   "source": [
    "#Lamda\n",
    "suma = lambda x, y: x + y\n",
    "resta = lambda x, y: x - y\n",
    "multiplicacion = lambda x, y: x * y\n",
    "division = lambda x, y: x / y\n",
    "\n",
    "print(suma(2, 3)) # imprime 5\n",
    "print(resta(2, 3)) # imprime -1\n",
    "print(multiplicacion(2, 3)) # imprime 6\n",
    "print(division(2, 3)) # imprime 0.6666666666666666\n",
    "\n",
    "#cuadrado de cada numero\n",
    "numbers = range(11)\n",
    "numerosCuadrados = list(map(lambda x: x**2, numbers)) # lista de cuadrados\n",
    "\n",
    "print(numerosCuadrados)\n",
    "\n",
    "#numero Pares\n",
    "numerosPares = list(filter(lambda x: x % 2 == 0, numbers)) \n"
   ]
  },
  {
   "cell_type": "code",
   "execution_count": 31,
   "id": "f49621dd",
   "metadata": {},
   "outputs": [
    {
     "name": "stdout",
     "output_type": "stream",
     "text": [
      "120\n",
      "8\n",
      "6\n"
     ]
    }
   ],
   "source": [
    "#Realizar funciones recursivas\n",
    "def factorial(n):\n",
    "    if n == 0:\n",
    "        return 1\n",
    "    else:\n",
    "        return n * factorial(n-1)\n",
    "factorial_5 = print(factorial(5))\n",
    "\n",
    "def fibonacci(n):\n",
    "    if n <= 1:\n",
    "        return n\n",
    "    else:\n",
    "        return fibonacci(n-1) + fibonacci(n-2)\n",
    "    \n",
    "number = 6\n",
    "print(fibonacci(number)) \n",
    "\n",
    "#calcular sumatoria\n",
    "def sumatoria(n):\n",
    "    if n == 0:\n",
    "        return 0\n",
    "    else:\n",
    "        return n + sumatoria(n-1)\n",
    "\n",
    "sumatoria_5 = print(sumatoria(3))"
   ]
  },
  {
   "cell_type": "code",
   "execution_count": null,
   "id": "b71b3336",
   "metadata": {},
   "outputs": [
    {
     "name": "stdout",
     "output_type": "stream",
     "text": [
      "Error el valor no es un numero invalid literal for int() with base 10: 'g'\n"
     ]
    }
   ],
   "source": [
    "#manejo de errores try/except\n",
    "\n",
    "try:\n",
    "    divisor = int(input(\"ingresa un numero divisor: \"))\n",
    "    result = 10 / divisor\n",
    "    print(f\"El resultado es: {result}\")\n",
    "except ZeroDivisionError as e:\n",
    "    print(\"Error el divisor no puede ser 0\", e)\n",
    "    print(\"El error es: \", e)\n",
    "except ValueError as e:\n",
    "    print(\"Error el valor no es un numero\", e)\n",
    "    print(\"El error es: \", e)"
   ]
  }
 ],
 "metadata": {
  "kernelspec": {
   "display_name": "Python 3",
   "language": "python",
   "name": "python3"
  },
  "language_info": {
   "codemirror_mode": {
    "name": "ipython",
    "version": 3
   },
   "file_extension": ".py",
   "mimetype": "text/x-python",
   "name": "python",
   "nbconvert_exporter": "python",
   "pygments_lexer": "ipython3",
   "version": "3.13.2"
  }
 },
 "nbformat": 4,
 "nbformat_minor": 5
}
